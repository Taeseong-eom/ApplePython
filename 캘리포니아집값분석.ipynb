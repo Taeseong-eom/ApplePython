{
  "nbformat": 4,
  "nbformat_minor": 0,
  "metadata": {
    "colab": {
      "provenance": [],
      "mount_file_id": "1xWwtSg3WI0L5WC-5cyg1TyeFdNfcbdjL",
      "authorship_tag": "ABX9TyMG4U9TtAvCJa7IB8v6hGwI",
      "include_colab_link": true
    },
    "kernelspec": {
      "name": "python3",
      "display_name": "Python 3"
    },
    "language_info": {
      "name": "python"
    }
  },
  "cells": [
    {
      "cell_type": "markdown",
      "metadata": {
        "id": "view-in-github",
        "colab_type": "text"
      },
      "source": [
        "<a href=\"https://colab.research.google.com/github/Taeseong-eom/ApplePython/blob/main/%EC%BA%98%EB%A6%AC%ED%8F%AC%EB%8B%88%EC%95%84%EC%A7%91%EA%B0%92%EB%B6%84%EC%84%9D.ipynb\" target=\"_parent\"><img src=\"https://colab.research.google.com/assets/colab-badge.svg\" alt=\"Open In Colab\"/></a>"
      ]
    },
    {
      "cell_type": "code",
      "execution_count": 4,
      "metadata": {
        "colab": {
          "base_uri": "https://localhost:8080/"
        },
        "id": "mVgk8Jp5NVij",
        "outputId": "26b2515c-8185-4f3d-cea9-704986d8f2a3"
      },
      "outputs": [
        {
          "output_type": "stream",
          "name": "stdout",
          "text": [
            "                                 OLS Regression Results                                \n",
            "=======================================================================================\n",
            "Dep. Variable:                  price   R-squared (uncentered):                   0.751\n",
            "Model:                            OLS   Adj. R-squared (uncentered):              0.751\n",
            "Method:                 Least Squares   F-statistic:                          1.710e+04\n",
            "Date:                Sat, 20 Jan 2024   Prob (F-statistic):                        0.00\n",
            "Time:                        09:46:28   Log-Likelihood:                     -2.2273e+05\n",
            "No. Observations:               17000   AIC:                                  4.455e+05\n",
            "Df Residuals:                   16997   BIC:                                  4.455e+05\n",
            "Df Model:                           3                                                  \n",
            "Covariance Type:            nonrobust                                                  \n",
            "==============================================================================\n",
            "                 coef    std err          t      P>|t|      [0.025      0.975]\n",
            "------------------------------------------------------------------------------\n",
            "year        4866.6888     37.998    128.078      0.000    4792.209    4941.169\n",
            "rooms         48.0641      1.123     42.800      0.000      45.863      50.265\n",
            "bedrooms    -132.8582      5.787    -22.958      0.000    -144.201    -121.515\n",
            "==============================================================================\n",
            "Omnibus:                      970.274   Durbin-Watson:                   0.831\n",
            "Prob(Omnibus):                  0.000   Jarque-Bera (JB):             1293.678\n",
            "Skew:                           0.537   Prob(JB):                    1.21e-281\n",
            "Kurtosis:                       3.820   Cond. No.                         146.\n",
            "==============================================================================\n",
            "\n",
            "Notes:\n",
            "[1] R² is computed without centering (uncentered) since the model does not contain a constant.\n",
            "[2] Standard Errors assume that the covariance matrix of the errors is correctly specified.\n"
          ]
        },
        {
          "output_type": "execute_result",
          "data": {
            "text/plain": [
              "array([118826.27168763])"
            ]
          },
          "metadata": {},
          "execution_count": 4
        }
      ],
      "source": [
        "import numpy as np\n",
        "import statsmodels.api as sm\n",
        "\n",
        "import pandas as pd\n",
        "df = pd.read_csv('/content/drive/MyDrive/Colab Notebooks/california_housing.csv')\n",
        "df\n",
        "\n",
        "model = sm.OLS(df['price'],df[['year','rooms','bedrooms']]).fit()\n",
        "print(model.summary())\n",
        "# Y = ax + bx + cx 라서  coef가 3개로 나옴\n",
        "# P>|t| 가 낮으니까 의미있다. R-squared (uncentered): 0.751 으로 꽤 높음.\n",
        "\n",
        "# 그럼 이제 추정을 해보자.\n",
        "model.predict([20, 1000, 200]) # x 값을 넣으면 됨. 20년된 방이 1000개 베드룸 200개\n",
        "# 추정 가격 118826.27168763 로 나왔다."
      ]
    }
  ]
}