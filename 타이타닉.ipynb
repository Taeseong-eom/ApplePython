{
  "nbformat": 4,
  "nbformat_minor": 0,
  "metadata": {
    "colab": {
      "provenance": [],
      "mount_file_id": "1p1SFgoidIHJBG4HTrfKeR7_fizF6fmPH",
      "authorship_tag": "ABX9TyOvlspu1f4miHKc551ZTWCd",
      "include_colab_link": true
    },
    "kernelspec": {
      "name": "python3",
      "display_name": "Python 3"
    },
    "language_info": {
      "name": "python"
    }
  },
  "cells": [
    {
      "cell_type": "markdown",
      "metadata": {
        "id": "view-in-github",
        "colab_type": "text"
      },
      "source": [
        "<a href=\"https://colab.research.google.com/github/Taeseong-eom/ApplePython/blob/main/%ED%83%80%EC%9D%B4%ED%83%80%EB%8B%89.ipynb\" target=\"_parent\"><img src=\"https://colab.research.google.com/assets/colab-badge.svg\" alt=\"Open In Colab\"/></a>"
      ]
    },
    {
      "cell_type": "code",
      "execution_count": 12,
      "metadata": {
        "colab": {
          "base_uri": "https://localhost:8080/"
        },
        "id": "DKriq6rWsSJK",
        "outputId": "1e06ec61-e781-4157-aab6-88d05d250eb1"
      },
      "outputs": [
        {
          "output_type": "stream",
          "name": "stdout",
          "text": [
            "PassengerId      0\n",
            "Survived         0\n",
            "Pclass           0\n",
            "Name             0\n",
            "Sex              0\n",
            "Age            177\n",
            "SibSp            0\n",
            "Parch            0\n",
            "Ticket           0\n",
            "Fare             0\n",
            "Embarked         2\n",
            "dtype: int64\n",
            "PassengerId    0\n",
            "Survived       0\n",
            "Pclass         0\n",
            "Name           0\n",
            "Sex            0\n",
            "Age            0\n",
            "SibSp          0\n",
            "Parch          0\n",
            "Ticket         0\n",
            "Fare           0\n",
            "Embarked       0\n",
            "dtype: int64\n"
          ]
        }
      ],
      "source": [
        "import pandas as pd\n",
        "\n",
        "data = pd.read_csv('/content/drive/MyDrive/Colab Notebooks/train.csv')\n",
        "\n",
        "print(data.isnull().sum())\n",
        "# Age 칼럼에 빈칸이 177개라서  평균값을 넣었다.\n",
        "# 평균 = data['Age'].mean()\n",
        "# print(평균) # 29.69911764705882\n",
        "data['Age'].fillna(value=30, inplace=True) # 평균을 반올림 하여 적용하였다.\n",
        "\n",
        "# Embarked 칼럼도 2개가 최빈값으로 채우겠다.\n",
        "# 최빈값 = data['Embarked'].mode()\n",
        "# print(최빈값)\n",
        "data['Embarked'].fillna(value='S', inplace=True)\n",
        "\n",
        "print(data.isnull().sum())"
      ]
    },
    {
      "cell_type": "code",
      "source": [
        "import tensorflow as tf\n",
        "\n",
        "# tf.data.Dataset.from_tensor_slices(X데이터, 정답) # 텐서플로우 데이터셋에 맞게 만들어줌\n",
        "# X 데이터는 정답을 제외한 모든 데이터고 정답데이터는 Survived 임.\n",
        "# 데이터를 그럼 분리를 해보자\n",
        "정답 = data.pop('Survived')\n",
        "ds = tf.data.Dataset.from_tensor_slices((dict(data), 정답))\n",
        "\n",
        "# 지금까지는 [] 데이터만 학습데이터로 넣었는데 딕셔너리도 넣을 수 있다.\n",
        "print(ds)"
      ],
      "metadata": {
        "colab": {
          "base_uri": "https://localhost:8080/"
        },
        "id": "dA-tjl-Lu7uh",
        "outputId": "e3adb227-6806-4a9c-a08c-44ca3fd2066d"
      },
      "execution_count": 13,
      "outputs": [
        {
          "output_type": "stream",
          "name": "stdout",
          "text": [
            "<_TensorSliceDataset element_spec=({'PassengerId': TensorSpec(shape=(), dtype=tf.int64, name=None), 'Pclass': TensorSpec(shape=(), dtype=tf.int64, name=None), 'Name': TensorSpec(shape=(), dtype=tf.string, name=None), 'Sex': TensorSpec(shape=(), dtype=tf.string, name=None), 'Age': TensorSpec(shape=(), dtype=tf.float64, name=None), 'SibSp': TensorSpec(shape=(), dtype=tf.int64, name=None), 'Parch': TensorSpec(shape=(), dtype=tf.int64, name=None), 'Ticket': TensorSpec(shape=(), dtype=tf.string, name=None), 'Fare': TensorSpec(shape=(), dtype=tf.float64, name=None), 'Embarked': TensorSpec(shape=(), dtype=tf.string, name=None)}, TensorSpec(shape=(), dtype=tf.int64, name=None))>\n"
          ]
        }
      ]
    },
    {
      "cell_type": "code",
      "source": [
        "# feature_column을 쓰려면 위에서 만든 ds처럼 데이터셋을 만들어야한다.\n",
        "# 필요 없는건 버리겠음. PassengerId\tName\n",
        "\n",
        "# 그대로 집어넣을꺼 SibSp\tParch Fare : numeric_column\n",
        "\n",
        "# 묶어서 넣을꺼 Age : bucketized_column\n",
        "\n",
        "# 원핫인코딩할꺼(종류 몇개 없는거) Sex Embarked Pclass : indicator_column\n",
        "\n",
        "# 종류가 많은거 Ticket : embedding_column # 하나의 행렬로 표현하고 무작위 숫자부여-> 학습할수록 값 조정\n",
        "\n",
        "feature_columns=[]\n",
        "tf.feature_column.numeric_column('Fare')\n",
        "tf.feature_column.numeric_column('Parch')\n",
        "tf.feature_column.numeric_column('SibSp')"
      ],
      "metadata": {
        "id": "6S4jOf1QxoOT"
      },
      "execution_count": null,
      "outputs": []
    }
  ]
}