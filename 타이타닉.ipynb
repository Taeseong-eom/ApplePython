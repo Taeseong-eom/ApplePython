{
  "nbformat": 4,
  "nbformat_minor": 0,
  "metadata": {
    "colab": {
      "provenance": [],
      "mount_file_id": "1p1SFgoidIHJBG4HTrfKeR7_fizF6fmPH",
      "authorship_tag": "ABX9TyMTZyrfaIqvZ9gzJCZfEQNA",
      "include_colab_link": true
    },
    "kernelspec": {
      "name": "python3",
      "display_name": "Python 3"
    },
    "language_info": {
      "name": "python"
    }
  },
  "cells": [
    {
      "cell_type": "markdown",
      "metadata": {
        "id": "view-in-github",
        "colab_type": "text"
      },
      "source": [
        "<a href=\"https://colab.research.google.com/github/Taeseong-eom/ApplePython/blob/main/%ED%83%80%EC%9D%B4%ED%83%80%EB%8B%89.ipynb\" target=\"_parent\"><img src=\"https://colab.research.google.com/assets/colab-badge.svg\" alt=\"Open In Colab\"/></a>"
      ]
    },
    {
      "cell_type": "code",
      "execution_count": 3,
      "metadata": {
        "colab": {
          "base_uri": "https://localhost:8080/"
        },
        "id": "DKriq6rWsSJK",
        "outputId": "7d887b35-de37-403b-c5f2-0c0861f877da"
      },
      "outputs": [
        {
          "output_type": "stream",
          "name": "stdout",
          "text": [
            "PassengerId      0\n",
            "Survived         0\n",
            "Pclass           0\n",
            "Name             0\n",
            "Sex              0\n",
            "Age            177\n",
            "SibSp            0\n",
            "Parch            0\n",
            "Ticket           0\n",
            "Fare             0\n",
            "Embarked         2\n",
            "dtype: int64\n",
            "PassengerId    0\n",
            "Survived       0\n",
            "Pclass         0\n",
            "Name           0\n",
            "Sex            0\n",
            "Age            0\n",
            "SibSp          0\n",
            "Parch          0\n",
            "Ticket         0\n",
            "Fare           0\n",
            "Embarked       0\n",
            "dtype: int64\n"
          ]
        }
      ],
      "source": [
        "import pandas as pd\n",
        "\n",
        "data = pd.read_csv('/content/drive/MyDrive/Colab Notebooks/train.csv')\n",
        "\n",
        "print(data.isnull().sum())\n",
        "# Age 칼럼에 빈칸이 177개라서  평균값을 넣었다.\n",
        "# 평균 = data['Age'].mean()\n",
        "# print(평균) # 29.69911764705882\n",
        "data['Age'].fillna(value=30, inplace=True) # 평균을 반올림 하여 적용하였다.\n",
        "\n",
        "# Embarked 칼럼도 2개가 최빈값으로 채우겠다.\n",
        "# 최빈값 = data['Embarked'].mode()\n",
        "# print(최빈값)\n",
        "data['Embarked'].fillna(value='S', inplace=True)\n",
        "\n",
        "print(data.isnull().sum())"
      ]
    },
    {
      "cell_type": "code",
      "source": [
        "from google.colab import drive\n",
        "drive.mount('/content/drive')"
      ],
      "metadata": {
        "colab": {
          "base_uri": "https://localhost:8080/"
        },
        "id": "UpR4jFH_GY-j",
        "outputId": "bb32c92e-5fef-43d1-b03b-75a8c0537798"
      },
      "execution_count": 4,
      "outputs": [
        {
          "output_type": "stream",
          "name": "stdout",
          "text": [
            "Drive already mounted at /content/drive; to attempt to forcibly remount, call drive.mount(\"/content/drive\", force_remount=True).\n"
          ]
        }
      ]
    },
    {
      "cell_type": "code",
      "source": [
        "import tensorflow as tf\n",
        "\n",
        "# tf.data.Dataset.from_tensor_slices(X데이터, 정답) # 텐서플로우 데이터셋에 맞게 만들어줌\n",
        "# X 데이터는 정답을 제외한 모든 데이터고 정답데이터는 Survived 임.\n",
        "# 데이터를 그럼 분리를 해보자\n",
        "정답 = data.pop('Survived')\n",
        "ds = tf.data.Dataset.from_tensor_slices((dict(data), 정답))\n",
        "\n",
        "# 지금까지는 [] 데이터만 학습데이터로 넣었는데 딕셔너리도 넣을 수 있다.\n",
        "print(ds)"
      ],
      "metadata": {
        "colab": {
          "base_uri": "https://localhost:8080/"
        },
        "id": "dA-tjl-Lu7uh",
        "outputId": "31aacb8c-56c6-4137-c9e5-5eda2d914d47"
      },
      "execution_count": 5,
      "outputs": [
        {
          "output_type": "stream",
          "name": "stdout",
          "text": [
            "<_TensorSliceDataset element_spec=({'PassengerId': TensorSpec(shape=(), dtype=tf.int64, name=None), 'Pclass': TensorSpec(shape=(), dtype=tf.int64, name=None), 'Name': TensorSpec(shape=(), dtype=tf.string, name=None), 'Sex': TensorSpec(shape=(), dtype=tf.string, name=None), 'Age': TensorSpec(shape=(), dtype=tf.float64, name=None), 'SibSp': TensorSpec(shape=(), dtype=tf.int64, name=None), 'Parch': TensorSpec(shape=(), dtype=tf.int64, name=None), 'Ticket': TensorSpec(shape=(), dtype=tf.string, name=None), 'Fare': TensorSpec(shape=(), dtype=tf.float64, name=None), 'Embarked': TensorSpec(shape=(), dtype=tf.string, name=None)}, TensorSpec(shape=(), dtype=tf.int64, name=None))>\n"
          ]
        }
      ]
    },
    {
      "cell_type": "code",
      "source": [
        "import tensorflow as tf\n",
        "\n",
        "# feature_column을 쓰려면 위에서 만든 ds처럼 데이터셋을 만들어야한다.\n",
        "# 필요 없는건 버리겠음. PassengerId\tName\n",
        "\n",
        "# 그대로 집어넣을꺼 SibSp\tParch Fare : numeric_column\n",
        "\n",
        "# 묶어서 넣을꺼 Age : bucketized_column\n",
        "\n",
        "# 카테고리/원핫인코딩할꺼(종류 몇개 없는거) Sex Embarked  : indicator_columnPclass\n",
        "\n",
        "# 종류가 많은거 Ticket : embedding_column # 하나의 행렬로 표현하고 무작위 숫자부여-> 학습할수록 값 조정\n",
        "\n",
        "feature_columns=[]\n",
        "feature_columns.append( tf.feature_column.numeric_column('Fare') )\n",
        "feature_columns.append( tf.feature_column.numeric_column('Parch'))\n",
        "feature_columns.append( tf.feature_column.numeric_column('SibSp'))\n",
        "\n",
        "Age = tf.feature_column.numeric_column('Age')\n",
        "Age_bucket = tf.feature_column.bucketized_column(Age, boundaries=[10,20,30,40,50,60]) # 10, 20, 30 대로 묶어줌.\n",
        "feature_columns.append( Age_bucket )\n",
        "\n",
        "print(Age)\n",
        "print(feature_columns)"
      ],
      "metadata": {
        "id": "6S4jOf1QxoOT",
        "colab": {
          "base_uri": "https://localhost:8080/"
        },
        "outputId": "03bb7ff6-5e3d-44fc-eccb-af25124e110d"
      },
      "execution_count": 6,
      "outputs": [
        {
          "output_type": "stream",
          "name": "stdout",
          "text": [
            "NumericColumn(key='Age', shape=(1,), default_value=None, dtype=tf.float32, normalizer_fn=None)\n",
            "[NumericColumn(key='Fare', shape=(1,), default_value=None, dtype=tf.float32, normalizer_fn=None), NumericColumn(key='Parch', shape=(1,), default_value=None, dtype=tf.float32, normalizer_fn=None), NumericColumn(key='SibSp', shape=(1,), default_value=None, dtype=tf.float32, normalizer_fn=None), BucketizedColumn(source_column=NumericColumn(key='Age', shape=(1,), default_value=None, dtype=tf.float32, normalizer_fn=None), boundaries=(10, 20, 30, 40, 50, 60))]\n"
          ]
        }
      ]
    },
    {
      "cell_type": "code",
      "source": [
        "vocab = data['Sex'].unique()\n",
        "cat = tf.feature_column.categorical_column_with_vocabulary_list('Sex', vocab) # 카테고리 나눌건데 뒤에 유니크한 리스트를 넣어야함.\n",
        "one_hot = tf.feature_column.indicator_column(cat)\n",
        "feature_columns.append(one_hot)\n",
        "\n",
        "vocab = data['Embarked'].unique()\n",
        "cat = tf.feature_column.categorical_column_with_vocabulary_list('Embarked', vocab) # 카테고리 나눌건데 뒤에 유니크한 리스트를 넣어야함.\n",
        "one_hot = tf.feature_column.indicator_column(cat)\n",
        "feature_columns.append(one_hot)\n",
        "\n",
        "vocab = data['Pclass'].unique()\n",
        "cat = tf.feature_column.categorical_column_with_vocabulary_list('Pclass', vocab) # 카테고리 나눌건데 뒤에 유니크한 리스트를 넣어야함.\n",
        "one_hot = tf.feature_column.indicator_column(cat)\n",
        "feature_columns.append(one_hot)\n",
        "\n",
        "\n",
        "#embedding\n",
        "vocab = data['Ticket'].unique()\n",
        "cat = tf.feature_column.categorical_column_with_vocabulary_list('Ticket', vocab) # 카테고리 나눌건데 뒤에 유니크한 리스트를 넣어야함.\n",
        "one_hot = tf.feature_column.embedding_column(cat, dimension=9)\n",
        "feature_columns.append(one_hot)"
      ],
      "metadata": {
        "colab": {
          "base_uri": "https://localhost:8080/"
        },
        "id": "9pEUqbGXM2mq",
        "outputId": "0d342374-6610-4af3-e018-4ded2f762740"
      },
      "execution_count": 11,
      "outputs": [
        {
          "output_type": "stream",
          "name": "stderr",
          "text": [
            "WARNING:tensorflow:From <ipython-input-11-51083a29aeeb>:20: embedding_column (from tensorflow.python.feature_column.feature_column_v2) is deprecated and will be removed in a future version.\n",
            "Instructions for updating:\n",
            "Use Keras preprocessing layers instead, either directly or via the `tf.keras.utils.FeatureSpace` utility. Each of `tf.feature_column.*` has a functional equivalent in `tf.keras.layers` for feature preprocessing when training a Keras model.\n"
          ]
        }
      ]
    }
  ]
}