{
  "nbformat": 4,
  "nbformat_minor": 0,
  "metadata": {
    "colab": {
      "provenance": [],
      "authorship_tag": "ABX9TyNKlUpMByQ5cybuIaWvXwoR",
      "include_colab_link": true
    },
    "kernelspec": {
      "name": "python3",
      "display_name": "Python 3"
    },
    "language_info": {
      "name": "python"
    }
  },
  "cells": [
    {
      "cell_type": "markdown",
      "metadata": {
        "id": "view-in-github",
        "colab_type": "text"
      },
      "source": [
        "<a href=\"https://colab.research.google.com/github/Taeseong-eom/ApplePython/blob/main/%ED%9A%8C%EA%B7%80%EB%B6%84%EC%84%9D_.ipynb\" target=\"_parent\"><img src=\"https://colab.research.google.com/assets/colab-badge.svg\" alt=\"Open In Colab\"/></a>"
      ]
    },
    {
      "cell_type": "code",
      "execution_count": 11,
      "metadata": {
        "colab": {
          "base_uri": "https://localhost:8080/",
          "height": 999
        },
        "id": "CLlAeTX4D9iO",
        "outputId": "691240c1-4f00-4a9b-d806-a6e222789441"
      },
      "outputs": [
        {
          "output_type": "stream",
          "name": "stdout",
          "text": [
            "0.9361426318808449\n",
            "-118.03578708946768\n",
            "[1.11392978]\n",
            "[71.33227633 82.47157418]\n"
          ]
        },
        {
          "output_type": "stream",
          "name": "stderr",
          "text": [
            "/usr/local/lib/python3.10/dist-packages/scipy/stats/_stats_py.py:1806: UserWarning: kurtosistest only valid for n>=20 ... continuing anyway, n=8\n",
            "  warnings.warn(\"kurtosistest only valid for n>=20 ... continuing \"\n"
          ]
        },
        {
          "output_type": "stream",
          "name": "stdout",
          "text": [
            "                                 OLS Regression Results                                \n",
            "=======================================================================================\n",
            "Dep. Variable:                      y   R-squared (uncentered):                   0.993\n",
            "Model:                            OLS   Adj. R-squared (uncentered):              0.992\n",
            "Method:                 Least Squares   F-statistic:                              936.5\n",
            "Date:                Sat, 20 Jan 2024   Prob (F-statistic):                    1.03e-08\n",
            "Time:                        09:17:38   Log-Likelihood:                         -25.993\n",
            "No. Observations:                   8   AIC:                                      53.99\n",
            "Df Residuals:                       7   BIC:                                      54.06\n",
            "Df Model:                           1                                                  \n",
            "Covariance Type:            nonrobust                                                  \n",
            "==============================================================================\n",
            "                 coef    std err          t      P>|t|      [0.025      0.975]\n",
            "------------------------------------------------------------------------------\n",
            "x1             0.4228      0.014     30.603      0.000       0.390       0.455\n",
            "==============================================================================\n",
            "Omnibus:                        1.641   Durbin-Watson:                   2.315\n",
            "Prob(Omnibus):                  0.440   Jarque-Bera (JB):                0.998\n",
            "Skew:                          -0.767   Prob(JB):                        0.607\n",
            "Kurtosis:                       2.199   Cond. No.                         1.00\n",
            "==============================================================================\n",
            "\n",
            "Notes:\n",
            "[1] R² is computed without centering (uncentered) since the model does not contain a constant.\n",
            "[2] Standard Errors assume that the covariance matrix of the errors is correctly specified.\n"
          ]
        },
        {
          "output_type": "display_data",
          "data": {
            "text/plain": [
              "<Figure size 640x480 with 1 Axes>"
            ],
            "image/png": "[encoded data removed]"
          },
          "metadata": {}
        }
      ],
      "source": [
        "import numpy as np\n",
        "# numpy 쓰면 데이터 모양 쉽게 바꿀 수 있음\n",
        "\n",
        "키 = np.array([170,180,160,165,158,176,182,172]).reshape((-1,1)) # 2차원 데이터로 만듬\n",
        "몸무게 = [75,81,59,70,55,78,84,72]\n",
        "# 키와 몸무게에 대한 상관관계를 알아보자.\n",
        "# 회귀분석을 통해 예측을 할 수 있다.\n",
        "import matplotlib.pyplot as plt\n",
        "# plt.scatter(키, 몸무게)\n",
        "# 회기분석 선을 OLS에 충족하도록 그려보자.\n",
        "# 선을 그리고 점들과의 오차제곱 총합이 가장 작도록 그린 선\n",
        "plt.show()\n",
        "\n",
        "from sklearn.linear_model import LinearRegression # 머신러닝 회귀분석에서 많이 씀\n",
        "\n",
        "model = LinearRegression().fit(키, 몸무게) # X, Y 데이터\n",
        "print(model.score(키, 몸무게)) # r 값 : 1에 가까울수록 밀접한 관련이 있다.\n",
        "# OLS 에 만족하는 y = ax + b 선에서 a,b를 찾아 보자.\n",
        "print(model.intercept_) # b 값\n",
        "print(model.coef_) # a 값\n",
        "# y = 1.11392978 x + -118.03578708946768 이다. 이걸로 추정할 수 있음\n",
        "# 이렇게 대입 해서 추측할 수 있지만\n",
        "\n",
        "a = model.predict([[170], [180]])# x 데이터 (키)를 넣으면 예측해줌\n",
        "print(a)\n",
        "\n",
        "plt.scatter(키, 몸무게)\n",
        "plt.plot(키, model.predict(키))\n",
        "\n",
        "import statsmodels.api as sm # 회귀분석을 더 이쁘게 할 수 있음.\n",
        "\n",
        "model = sm.OLS(몸무게, 키).fit() # Y, X 데이터=> Y 데이터로 X 데이터를 추론해줌,\n",
        "print(model.summary())\n",
        "# R-squared (uncentered):0.993 // 맞을 확률 (1에 가까울수록 좋음)\n",
        "# y = ax + b\n",
        "#  Prob (F-statistic): 1.03e-08 // a 가 0 일 확률임. 0.00000000103% 이니까 0이 아닐거고 그럼 x는 y와 관련이 있겠다.\n",
        "# std err 는 표준편차\n",
        "# 0.390    ~   0.455 사이에 99% 확률로 a값이 있을것이다."
      ]
    },
    {
      "cell_type": "code",
      "source": [],
      "metadata": {
        "id": "wEcFvP3AIP2T"
      },
      "execution_count": null,
      "outputs": []
    }
  ]
}