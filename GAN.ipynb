{
  "nbformat": 4,
  "nbformat_minor": 0,
  "metadata": {
    "colab": {
      "provenance": [],
      "gpuType": "T4",
      "mount_file_id": "1G3C2T6-yphn3Fm6tfGQ2A3ubxe-zSPa2",
      "authorship_tag": "ABX9TyNNFZvPzjrdFfXWKM8ffnEN",
      "include_colab_link": true
    },
    "kernelspec": {
      "name": "python3",
      "display_name": "Python 3"
    },
    "language_info": {
      "name": "python"
    },
    "accelerator": "GPU"
  },
  "cells": [
    {
      "cell_type": "markdown",
      "metadata": {
        "id": "view-in-github",
        "colab_type": "text"
      },
      "source": [
        "<a href=\"https://colab.research.google.com/github/Taeseong-eom/ApplePython/blob/main/GAN.ipynb\" target=\"_parent\"><img src=\"https://colab.research.google.com/assets/colab-badge.svg\" alt=\"Open In Colab\"/></a>"
      ]
    },
    {
      "cell_type": "code",
      "source": [
        "from google.colab import drive\n",
        "drive.mount('/content/drive')"
      ],
      "metadata": {
        "colab": {
          "base_uri": "https://localhost:8080/"
        },
        "id": "aEQIaTDESN8m",
        "outputId": "9097dce9-f2e3-48b9-d36e-9f14dad16dcc"
      },
      "execution_count": 1,
      "outputs": [
        {
          "output_type": "stream",
          "name": "stdout",
          "text": [
            "Drive already mounted at /content/drive; to attempt to forcibly remount, call drive.mount(\"/content/drive\", force_remount=True).\n"
          ]
        }
      ]
    },
    {
      "cell_type": "code",
      "execution_count": 2,
      "metadata": {
        "id": "C5GYBeEicLEr",
        "colab": {
          "base_uri": "https://localhost:8080/"
        },
        "outputId": "ff8c2f37-879b-4d93-a66f-4b000c307c55"
      },
      "outputs": [
        {
          "output_type": "stream",
          "name": "stdout",
          "text": [
            "Downloading celeba-dataset.zip to /content\n",
            " 99% 1.32G/1.33G [00:13<00:00, 193MB/s]\n",
            "100% 1.33G/1.33G [00:13<00:00, 107MB/s]\n"
          ]
        }
      ],
      "source": [
        "import os\n",
        "os.environ['KAGGLE_CONFIG_DIR'] = \"/content/drive/MyDrive/Colab Notebooks/\"\n",
        "!kaggle datasets download -d jessicali9530/celeba-dataset\n",
        "!unzip -q celeba-dataset.zip -d ."
      ]
    },
    {
      "cell_type": "code",
      "source": [
        "from PIL import Image\n",
        "import os\n",
        "import numpy as np\n",
        "\n",
        "이미지경로 = os.listdir('/content/img_align_celeba/img_align_celeba')\n",
        "\n",
        "images = []\n",
        "\n",
        "# 이미지를 다루기 편해짐\n",
        "for path in 이미지경로[0:50000]:\n",
        "  숫자화이미지 = Image.open('img_align_celeba/img_align_celeba/' + path).crop((20, 30, 160, 180)).convert('L').resize((64,64))# 사진 가로폭을 가운데 20px~160px , 사진 세로폭을 30px~180px 짜름.\n",
        "  images.append( np.array(숫자화이미지))\n",
        "\n",
        "images = np.array(images)\n",
        "images = np.divide(images, 255) # 이미지를 255로 나누어 이미지를 0 ~ 1 사이로 나눠 성능 향상.\n",
        "\n",
        "images = images.reshape(50000, 64, 64, 1)\n",
        "print(images.shape)\n"
      ],
      "metadata": {
        "colab": {
          "base_uri": "https://localhost:8080/"
        },
        "id": "78GhaQH-VUzX",
        "outputId": "538e6188-7f06-4521-e700-831683991a28"
      },
      "execution_count": 4,
      "outputs": [
        {
          "output_type": "stream",
          "name": "stdout",
          "text": [
            "(50000, 64, 64, 1)\n"
          ]
        }
      ]
    }
  ]
}