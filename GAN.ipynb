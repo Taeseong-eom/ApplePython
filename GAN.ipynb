{
  "nbformat": 4,
  "nbformat_minor": 0,
  "metadata": {
    "colab": {
      "provenance": [],
      "gpuType": "T4",
      "mount_file_id": "1G3C2T6-yphn3Fm6tfGQ2A3ubxe-zSPa2",
      "authorship_tag": "ABX9TyNlxI3gt1533/jB4dXBSmwc",
      "include_colab_link": true
    },
    "kernelspec": {
      "name": "python3",
      "display_name": "Python 3"
    },
    "language_info": {
      "name": "python"
    },
    "accelerator": "GPU"
  },
  "cells": [
    {
      "cell_type": "markdown",
      "metadata": {
        "id": "view-in-github",
        "colab_type": "text"
      },
      "source": [
        "<a href=\"https://colab.research.google.com/github/Taeseong-eom/ApplePython/blob/main/GAN.ipynb\" target=\"_parent\"><img src=\"https://colab.research.google.com/assets/colab-badge.svg\" alt=\"Open In Colab\"/></a>"
      ]
    },
    {
      "cell_type": "code",
      "source": [
        "from google.colab import drive\n",
        "drive.mount('/content/drive')"
      ],
      "metadata": {
        "colab": {
          "base_uri": "https://localhost:8080/"
        },
        "id": "aEQIaTDESN8m",
        "outputId": "81cf1264-6a25-4a3c-c6d8-ab4c1f9ae732"
      },
      "execution_count": 1,
      "outputs": [
        {
          "output_type": "stream",
          "name": "stdout",
          "text": [
            "Drive already mounted at /content/drive; to attempt to forcibly remount, call drive.mount(\"/content/drive\", force_remount=True).\n"
          ]
        }
      ]
    },
    {
      "cell_type": "code",
      "execution_count": 2,
      "metadata": {
        "id": "C5GYBeEicLEr",
        "colab": {
          "base_uri": "https://localhost:8080/"
        },
        "outputId": "92d1153c-daa0-476a-8347-a58292117b5c"
      },
      "outputs": [
        {
          "output_type": "stream",
          "name": "stdout",
          "text": [
            "Downloading celeba-dataset.zip to /content\n",
            "100% 1.33G/1.33G [01:01<00:00, 24.8MB/s]\n",
            "100% 1.33G/1.33G [01:01<00:00, 23.2MB/s]\n"
          ]
        }
      ],
      "source": [
        "import os\n",
        "os.environ['KAGGLE_CONFIG_DIR'] = \"/content/drive/MyDrive/Colab Notebooks/\"\n",
        "!kaggle datasets download -d jessicali9530/celeba-dataset\n",
        "!unzip -q celeba-dataset.zip -d ."
      ]
    },
    {
      "cell_type": "code",
      "source": [
        "from PIL import Image\n",
        "import os\n",
        "import numpy as np\n",
        "\n",
        "이미지경로 = os.listdir('/content/img_align_celeba/img_align_celeba')\n",
        "\n",
        "images = []\n",
        "\n",
        "# 이미지를 다루기 편해짐\n",
        "for path in 이미지경로[0:50000]: # 속도를 위해 5만개 정도만 사용.\n",
        "  숫자화이미지 = Image.open('img_align_celeba/img_align_celeba/' + path).crop((20, 30, 160, 180)).convert('L').resize((64,64))# 사진 가로폭을 가운데 20px~160px , 사진 세로폭을 30px~180px 짜름.\n",
        "  images.append( np.array(숫자화이미지)) # convert('L')를 사용하여 흑백으로 적용\n",
        "\n",
        "images = np.array(images)\n",
        "images = np.divide(images, 255) # 이미지를 255로 나누어 이미지를 0 ~ 1 사이로 나눠 성능 향상.\n",
        "\n",
        "images = images.reshape(50000, 64, 64, 1)\n",
        "print(images.shape)\n"
      ],
      "metadata": {
        "colab": {
          "base_uri": "https://localhost:8080/"
        },
        "id": "78GhaQH-VUzX",
        "outputId": "602297ca-2a96-4831-802f-097ef96754bd"
      },
      "execution_count": 3,
      "outputs": [
        {
          "output_type": "stream",
          "name": "stdout",
          "text": [
            "(50000, 64, 64, 1)\n"
          ]
        }
      ]
    },
    {
      "cell_type": "code",
      "source": [
        "import tensorflow as tf\n",
        "\n",
        "discriminator = tf.keras.models.Sequential([\n",
        "    tf.keras.layers.Conv2D(64, (3,3), strides=(2,2), padding='same',input_shape=[64,64,1]), # 64개의 필터를 사용, 필터의 크기는 (3,3), 입력데이터 스캔시 이동하는 단위(stride),padding을 이용해 입력과 출력의 크기를 동일하게 조정함.\n",
        "    tf.keras.layers.LeakyReLU(alpha=0.2), # 음수 입력시 alpha를 곱한 값이 출력됨. # GAN에서 좀더 좋은 성능을 보이기도 해서 사용함.\n",
        "    tf.keras.layers.Dropout(0.4), # Overfitting 을 방지하기 위해 뉴런의 일부(0.4)를 비활성화 시킴.\n",
        "    tf.keras.layers.Conv2D(64, (3,3), strides=(2,2), padding='same'),\n",
        "    tf.keras.layers.LeakyReLU(alpha=0.2),\n",
        "    tf.keras.layers.Dropout(0.4),\n",
        "    tf.keras.layers.Flatten(),\n",
        "    tf.keras.layers.Dense(1,activation='sigmoid') # 0 또는 1로 출력을 제한(sigmoid)\n",
        "])\n"
      ],
      "metadata": {
        "id": "xC_DvYfxOcQJ"
      },
      "execution_count": 5,
      "outputs": []
    },
    {
      "cell_type": "code",
      "source": [
        "generator = tf.keras.models.Sequential([\n",
        "    tf.keras.layers.Dense(4 * 4 * 256, input_shape=(100,)), # 가로4,세로4 데이터를 256장 만들기 위한 노드수\n",
        "    tf.keras.layers.Reshape((4,4,256)),# 이미지처럼 만들기 위해서 모양 바꿈.\n",
        "    tf.keras.layers.Conv2DTranspose(256, 3, strides = 2, padding='same'),\n",
        "    tf.keras.layers.LeakyReLU(alpha=0.2),\n",
        "    tf.keras.layers.BatchNormalization(), #정규화를 통해 covariate shift 문제를 완화시킴.\n",
        "    tf.keras.layers.Conv2DTranspose(128, 3, strides = 2, padding='same'),\n",
        "    tf.keras.layers.LeakyReLU(alpha=0.2),\n",
        "    tf.keras.layers.BatchNormalization(),\n",
        "    tf.keras.layers.Conv2DTranspose(64, 3, strides=2, padding='same'),\n",
        "    tf.keras.layers.LeakyReLU(alpha=0.2),\n",
        "    tf.keras.layers.BatchNormalization(),\n",
        "    tf.keras.layers.Conv2DTranspose(1, 3, strides=2, padding='same', activation='sigmoid')\n",
        "])"
      ],
      "metadata": {
        "id": "3mTq2Hqfrlxv"
      },
      "execution_count": 10,
      "outputs": []
    },
    {
      "cell_type": "code",
      "source": [
        "GAN = tf.keras.models.Sequential([generator, discriminator]) # GAN 생성\n",
        "\n",
        "discriminator.compile(optimizer='adam', loss='binary_crossentropy') # 확률을 뱉을 땐\n",
        "\n",
        "discriminator.trainable = False # 학습된 구분모델이 잘못된 데이터를 학습하지 못하도록 막음.\n",
        "\n",
        "GAN.compile(optimizer='adam',loss='binary_crossentropy') # GAN 을 컴파일하면 generator를 컴파일 할 수 있음"
      ],
      "metadata": {
        "id": "q0inutyRT0y9"
      },
      "execution_count": 11,
      "outputs": []
    }
  ]
}