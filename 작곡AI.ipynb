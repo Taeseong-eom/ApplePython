{
  "cells": [
    {
      "cell_type": "markdown",
      "metadata": {
        "id": "view-in-github",
        "colab_type": "text"
      },
      "source": [
        "<a href=\"https://colab.research.google.com/github/Taeseong-eom/ApplePython/blob/main/%EC%9E%91%EA%B3%A1AI.ipynb\" target=\"_parent\"><img src=\"https://colab.research.google.com/assets/colab-badge.svg\" alt=\"Open In Colab\"/></a>"
      ]
    },
    {
      "cell_type": "code",
      "execution_count": 11,
      "metadata": {
        "colab": {
          "base_uri": "https://localhost:8080/"
        },
        "id": "wlXmzxGVocOx",
        "outputId": "e3dbbcd6-212f-4856-e3a6-b3f383af516b"
      },
      "outputs": [
        {
          "output_type": "stream",
          "name": "stdout",
          "text": [
            "tf.Tensor(\n",
            "[[[0. 0. 0. ... 0. 0. 0.]\n",
            "  [1. 0. 0. ... 0. 0. 0.]\n",
            "  [0. 0. 0. ... 0. 0. 0.]\n",
            "  ...\n",
            "  [0. 0. 0. ... 0. 0. 0.]\n",
            "  [0. 0. 0. ... 0. 0. 0.]\n",
            "  [1. 0. 0. ... 0. 0. 0.]]\n",
            "\n",
            " [[1. 0. 0. ... 0. 0. 0.]\n",
            "  [0. 0. 0. ... 0. 0. 0.]\n",
            "  [1. 0. 0. ... 0. 0. 0.]\n",
            "  ...\n",
            "  [0. 0. 0. ... 0. 0. 0.]\n",
            "  [1. 0. 0. ... 0. 0. 0.]\n",
            "  [0. 0. 0. ... 0. 0. 0.]]], shape=(2, 25, 31), dtype=float32)\n"
          ]
        }
      ],
      "source": [
        "import tensorflow as tf\n",
        "\n",
        "with open('/content/drive/MyDrive/Colab Notebooks/pianoabc.txt','r') as file:\n",
        "  text = file.read()\n",
        "# 악보를 문자로 바꿀 수 있을까?\n",
        "# abc notation 쓰면 된다.\n",
        "# txt 파일은 악보를 txt로 바꿔놨다.\n",
        "\n",
        "# 이제 문자를 숫자로 만들어서 학습시키자.\n",
        "# 문자를 숫자로 바꾸는 방법\n",
        "# 1. Bag of words(단어주머니) 만들어서 숫자로 변환\n",
        "utext = list(set(text))\n",
        "utext.sort()\n",
        "# print(utext)\n",
        "\n",
        "# 문자 -> 숫자 변환 딕셔너리\n",
        "text_to_num = {}\n",
        "num_to_text = {}\n",
        "for i, data in enumerate(utext): # enumerate 로 변수 2개 사용\n",
        "  text_to_num[data] = i\n",
        "for i, data in enumerate(utext):\n",
        "  num_to_text[i] = data\n",
        "\n",
        "숫자화text=[]\n",
        "for i in text:\n",
        "  숫자화text.append(text_to_num[i])\n",
        "# print(숫자화text)\n",
        "\n",
        "# 그럼 이제 숫자화text를 가지고 trainX,Y를 만들어보자.\n",
        "\n",
        "trainX, trainY = [], []\n",
        "\n",
        "for i in range(0, len(숫자화text)-25):\n",
        "    trainX.append(숫자화text[i:i+25])\n",
        "    trainY.append(숫자화text[i+25])\n",
        "\n",
        "import numpy as np\n",
        "# 원핫인코딩할때 유니크한 문자가 많으면 부담된다.\n",
        "# 그럴때 embedding layer를 사용한다.\n",
        "\n",
        "# 원핫인코딩을 하자.\n",
        "trainX = tf.one_hot(trainX, 31)\n",
        "trainY = tf.one_hot(trainY, 31)\n",
        "print(trainX[0:2])\n",
        "\n"
      ]
    },
    {
      "cell_type": "code",
      "execution_count": 5,
      "metadata": {
        "colab": {
          "base_uri": "https://localhost:8080/"
        },
        "id": "1kIjk3ko3Hf1",
        "outputId": "d8928305-66bd-4b07-ab21-f1d7c4b657c2"
      },
      "outputs": [
        {
          "output_type": "stream",
          "name": "stdout",
          "text": [
            "4563/4563 - 170s - loss: 1.5987 - accuracy: 0.4958 - 170s/epoch - 37ms/step\n"
          ]
        }
      ],
      "source": [
        "model = tf.keras.models.Sequential([\n",
        "    tf.keras.layers.LSTM(100, input_shape=(25,31)), # 노드수\n",
        "    tf.keras.layers.Dense(31, activation='softmax')\n",
        "])\n",
        "\n",
        "model.compile(loss='categorical_crossentropy', optimizer='adam',metrics=['accuracy']) # 원핫인코딩이 되어 있어서 sparse를 안붙여도 됨.\n",
        "model.fit(trainX, trainY, batch_size=64, epochs=1, verbose=2) # batch_size=64 == 64번 할때마다 w 값 업데이트 // verbose=2 출력 값이 많으면 다운될 수 있어서 출력 많이 하지 말라 명령.\n",
        "model.save('/content/drive/MyDrive/Colab Notebooks/model!')"
      ]
    },
    {
      "cell_type": "code",
      "source": [
        "import tensorflow as tf\n",
        "import numpy as np\n",
        "\n",
        "Pmodel = tf.keras.models.load_model('/content/drive/MyDrive/Colab Notebooks/model1')\n",
        "\n",
        "첫입력값 = 숫자화text[117:117+25]\n",
        "첫입력값 = tf.one_hot(첫입력값, 31)\n",
        "첫입력값 = tf.expand_dims(첫입력값, axis=0)\n",
        "print(첫입력값)\n",
        "예측값 = Pmodel.predict(첫입력값)\n",
        "예측값 = np.argmax(예측값[0])\n",
        "print(예측값)\n",
        "print(숫자화text[117+25])\n",
        "print(num_to_text[예측값])"
      ],
      "metadata": {
        "colab": {
          "base_uri": "https://localhost:8080/"
        },
        "id": "gr1lS3ZSiBhi",
        "outputId": "b9530340-9fdf-43d3-d20e-009f69ed82cb"
      },
      "execution_count": 18,
      "outputs": [
        {
          "output_type": "stream",
          "name": "stderr",
          "text": [
            "WARNING:tensorflow:SavedModel saved prior to TF 2.5 detected when loading Keras model. Please ensure that you are saving the model with model.save() or tf.keras.models.save_model(), *NOT* tf.saved_model.save(). To confirm, there should be a file named \"keras_metadata.pb\" in the SavedModel directory.\n"
          ]
        },
        {
          "output_type": "stream",
          "name": "stdout",
          "text": [
            "tf.Tensor(\n",
            "[[[0. 0. 0. 0. 0. 0. 0. 0. 0. 0. 0. 0. 0. 0. 0. 0. 0. 0. 0. 0. 1. 0. 0.\n",
            "   0. 0. 0. 0. 0. 0. 0. 0.]\n",
            "  [1. 0. 0. 0. 0. 0. 0. 0. 0. 0. 0. 0. 0. 0. 0. 0. 0. 0. 0. 0. 0. 0. 0.\n",
            "   0. 0. 0. 0. 0. 0. 0. 0.]\n",
            "  [0. 0. 0. 0. 0. 0. 0. 0. 0. 0. 0. 0. 0. 0. 0. 0. 0. 0. 0. 0. 1. 0. 0.\n",
            "   0. 0. 0. 0. 0. 0. 0. 0.]\n",
            "  [0. 0. 0. 0. 0. 1. 0. 0. 0. 0. 0. 0. 0. 0. 0. 0. 0. 0. 0. 0. 0. 0. 0.\n",
            "   0. 0. 0. 0. 0. 0. 0. 0.]\n",
            "  [0. 0. 0. 0. 0. 0. 0. 0. 0. 0. 0. 0. 0. 0. 0. 0. 0. 0. 0. 0. 0. 0. 0.\n",
            "   0. 0. 0. 0. 1. 0. 0. 0.]\n",
            "  [0. 0. 0. 0. 0. 0. 0. 0. 0. 0. 0. 0. 0. 1. 0. 0. 0. 0. 0. 0. 0. 0. 0.\n",
            "   0. 0. 0. 0. 0. 0. 0. 0.]\n",
            "  [0. 0. 0. 0. 0. 1. 0. 0. 0. 0. 0. 0. 0. 0. 0. 0. 0. 0. 0. 0. 0. 0. 0.\n",
            "   0. 0. 0. 0. 0. 0. 0. 0.]\n",
            "  [1. 0. 0. 0. 0. 0. 0. 0. 0. 0. 0. 0. 0. 0. 0. 0. 0. 0. 0. 0. 0. 0. 0.\n",
            "   0. 0. 0. 0. 0. 0. 0. 0.]\n",
            "  [0. 0. 0. 0. 0. 0. 0. 0. 0. 0. 0. 0. 0. 0. 0. 0. 0. 0. 0. 0. 1. 0. 0.\n",
            "   0. 0. 0. 0. 0. 0. 0. 0.]\n",
            "  [1. 0. 0. 0. 0. 0. 0. 0. 0. 0. 0. 0. 0. 0. 0. 0. 0. 0. 0. 0. 0. 0. 0.\n",
            "   0. 0. 0. 0. 0. 0. 0. 0.]\n",
            "  [0. 0. 0. 0. 0. 0. 0. 0. 0. 0. 0. 0. 0. 0. 0. 0. 0. 0. 0. 0. 1. 0. 0.\n",
            "   0. 0. 0. 0. 0. 0. 0. 0.]\n",
            "  [0. 0. 0. 0. 0. 1. 0. 0. 0. 0. 0. 0. 0. 0. 0. 0. 0. 0. 0. 0. 0. 0. 0.\n",
            "   0. 0. 0. 0. 0. 0. 0. 0.]\n",
            "  [0. 0. 0. 0. 0. 0. 0. 0. 0. 0. 0. 0. 0. 0. 0. 0. 0. 0. 0. 0. 0. 0. 0.\n",
            "   0. 0. 0. 0. 0. 0. 0. 1.]\n",
            "  [0. 0. 0. 0. 0. 0. 0. 0. 0. 0. 0. 0. 0. 0. 1. 0. 0. 0. 0. 0. 0. 0. 0.\n",
            "   0. 0. 0. 0. 0. 0. 0. 0.]\n",
            "  [0. 0. 0. 0. 0. 1. 0. 0. 0. 0. 0. 0. 0. 0. 0. 0. 0. 0. 0. 0. 0. 0. 0.\n",
            "   0. 0. 0. 0. 0. 0. 0. 0.]\n",
            "  [0. 0. 0. 0. 0. 0. 0. 0. 0. 0. 0. 0. 0. 1. 0. 0. 0. 0. 0. 0. 0. 0. 0.\n",
            "   0. 0. 0. 0. 0. 0. 0. 0.]\n",
            "  [1. 0. 0. 0. 0. 0. 0. 0. 0. 0. 0. 0. 0. 0. 0. 0. 0. 0. 0. 0. 0. 0. 0.\n",
            "   0. 0. 0. 0. 0. 0. 0. 0.]\n",
            "  [0. 0. 0. 0. 0. 0. 0. 0. 0. 0. 0. 0. 0. 0. 0. 0. 0. 1. 0. 0. 0. 0. 0.\n",
            "   0. 0. 0. 0. 0. 0. 0. 0.]\n",
            "  [1. 0. 0. 0. 0. 0. 0. 0. 0. 0. 0. 0. 0. 0. 0. 0. 0. 0. 0. 0. 0. 0. 0.\n",
            "   0. 0. 0. 0. 0. 0. 0. 0.]\n",
            "  [0. 0. 0. 0. 0. 0. 0. 0. 0. 0. 0. 0. 0. 0. 0. 0. 0. 0. 0. 0. 0. 0. 0.\n",
            "   1. 0. 0. 0. 0. 0. 0. 0.]\n",
            "  [0. 0. 0. 0. 0. 0. 1. 0. 0. 0. 0. 0. 0. 0. 0. 0. 0. 0. 0. 0. 0. 0. 0.\n",
            "   0. 0. 0. 0. 0. 0. 0. 0.]\n",
            "  [0. 0. 0. 1. 0. 0. 0. 0. 0. 0. 0. 0. 0. 0. 0. 0. 0. 0. 0. 0. 0. 0. 0.\n",
            "   0. 0. 0. 0. 0. 0. 0. 0.]\n",
            "  [0. 0. 0. 0. 0. 1. 0. 0. 0. 0. 0. 0. 0. 0. 0. 0. 0. 0. 0. 0. 0. 0. 0.\n",
            "   0. 0. 0. 0. 0. 0. 0. 0.]\n",
            "  [0. 0. 0. 0. 0. 0. 0. 0. 0. 0. 0. 0. 0. 0. 0. 0. 0. 0. 0. 0. 0. 0. 0.\n",
            "   0. 1. 0. 0. 0. 0. 0. 0.]\n",
            "  [0. 0. 0. 1. 0. 0. 0. 0. 0. 0. 0. 0. 0. 0. 0. 0. 0. 0. 0. 0. 0. 0. 0.\n",
            "   0. 0. 0. 0. 0. 0. 0. 0.]]], shape=(1, 25, 31), dtype=float32)\n",
            "1/1 [==============================] - 1s 633ms/step\n",
            "5\n",
            "5\n",
            "2\n"
          ]
        }
      ]
    },
    {
      "cell_type": "code",
      "source": [
        "music = []\n",
        "for i in range(200):\n",
        "  # 첫 입력값 만들기\n",
        "  # 다음 값 예측\n",
        "  예측값 = Pmodel.predict(첫입력값, verbose=0)\n",
        "  예측값 = np.argmax(예측값[0])\n",
        "\n",
        "  # print(예측값)\n",
        "\n",
        "  # 예측값 [] 저장\n",
        "  music.append(예측값)\n",
        "\n",
        "  # 입력값 짜르기\n",
        "  다음입력값 = 첫입력값.numpy()[0][1:]\n",
        "  # print(다음입력값)\n",
        "\n",
        "  # 새로운 입력값 만들기(+예측값)\n",
        "  one_hot_num = tf.one_hot(예측값, 31)\n",
        "  # print(one_hot_num)\n",
        "\n",
        "  첫입력값 = np.vstack([다음입력값 , one_hot_num.numpy() ]) # 리스트끼리 더해줌\n",
        "  첫입력값 = tf.expand_dims(첫입력값, axis=0)\n",
        "  # 원핫인코딩, expand dims\n",
        "print(music)"
      ],
      "metadata": {
        "colab": {
          "base_uri": "https://localhost:8080/"
        },
        "id": "yAxWO4RRlX00",
        "outputId": "ac6828e5-d095-468f-c497-4fb17bd1208a"
      },
      "execution_count": 36,
      "outputs": [
        {
          "output_type": "stream",
          "name": "stdout",
          "text": [
            "[5, 0, 20, 0, 26, 15, 3, 5, 26, 3, 5, 0, 16, 0, 27, 3, 5, 26, 3, 5, 25, 3, 5, 15, 3, 5, 0, 17, 10, 0, 14, 3, 5, 20, 3, 5, 19, 3, 5, 14, 3, 5, 0, 20, 0, 20, 3, 5, 14, 3, 5, 15, 3, 5, 25, 3, 5, 0, 17, 10, 0, 26, 3, 5, 25, 3, 5, 15, 3, 5, 14, 3, 5, 0, 20, 0, 20, 15, 3, 5, 25, 3, 5, 26, 15, 0, 17, 0, 14, 3, 5, 19, 3, 5, 20, 3, 5, 14, 3, 5, 15, 3, 5, 14, 3, 5, 20, 3, 5, 19, 3, 5, 0, 17, 0, 17, 3, 5, 18, 3, 5, 19, 3, 5, 20, 3, 5, 0, 14, 10, 0, 14, 3, 5, 15, 3, 5, 14, 3, 5, 20, 3, 5, 0, 17, 0, 19, 17, 0, 14, 10, 0, 16, 3, 5, 19, 3, 5, 18, 3, 5, 17, 3, 5, 0, 17, 0, 19, 14, 0, 20, 0, 20, 15, 3, 5, 25, 3, 5, 0, 17, 0, 26, 3, 5, 25, 3, 5, 26, 3, 5, 27, 3, 5, 0, 20, 0, 26, 15, 3]\n"
          ]
        }
      ]
    },
    {
      "cell_type": "code",
      "source": [
        "music_text = []\n",
        "\n",
        "for i in music:\n",
        "  music_text.append(num_to_text[i])\n",
        "print(''.join(music_text))# 길어서 리스트를 합침\n",
        "# http://www.tradtunedb.org.uk/#/editor 에 값을 입력하면 음악이 나옴."
      ],
      "metadata": {
        "colab": {
          "base_uri": "https://localhost:8080/"
        },
        "id": "iUtzTtgTpCGD",
        "outputId": "662ec180-13f5-4fac-f7d0-56baeb3158a4"
      },
      "execution_count": 37,
      "outputs": [
        {
          "output_type": "stream",
          "name": "stdout",
          "text": [
            "2\"G\"dB/2d/2\"C\"e/2d/2c/2B/2\"D7\"A/2G/2F/2A/2\"G\"G/2A/2B/2c/2\"D7\"d/2c/2B/2A/2\"G\"GB/2c/2dB\"D\"A/2F/2G/2A/2B/2A/2G/2F/2\"D\"D/2E/2F/2G/2\"A7\"A/2B/2A/2G/2\"D\"FD\"A7\"C/2F/2E/2D/2\"D\"FA\"G\"GB/2c/2\"D\"d/2c/2d/2e/2\"G\"dB/\n"
          ]
        }
      ]
    }
  ],
  "metadata": {
    "colab": {
      "provenance": [],
      "mount_file_id": "1Qx6eUTG_rMsjyX0393tgteHV5qI0HpPv",
      "authorship_tag": "ABX9TyM09Gpzn2AqLM3KdEOiR9kd",
      "include_colab_link": true
    },
    "kernelspec": {
      "display_name": "Python 3",
      "name": "python3"
    },
    "language_info": {
      "name": "python"
    }
  },
  "nbformat": 4,
  "nbformat_minor": 0
}