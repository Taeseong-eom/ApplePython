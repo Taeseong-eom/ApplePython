{
  "nbformat": 4,
  "nbformat_minor": 0,
  "metadata": {
    "colab": {
      "provenance": [],
      "mount_file_id": "1vcZliBFh6CaTcRmlSezJkqcibxVxZZVB",
      "authorship_tag": "ABX9TyN+7nGSaGo0eL7Uig8EF3+9",
      "include_colab_link": true
    },
    "kernelspec": {
      "name": "python3",
      "display_name": "Python 3"
    },
    "language_info": {
      "name": "python"
    }
  },
  "cells": [
    {
      "cell_type": "markdown",
      "metadata": {
        "id": "view-in-github",
        "colab_type": "text"
      },
      "source": [
        "<a href=\"https://colab.research.google.com/github/Taeseong-eom/ApplePython/blob/main/%EC%A0%84%EC%9D%B4%ED%95%99%EC%8A%B5.ipynb\" target=\"_parent\"><img src=\"https://colab.research.google.com/assets/colab-badge.svg\" alt=\"Open In Colab\"/></a>"
      ]
    },
    {
      "cell_type": "code",
      "execution_count": 1,
      "metadata": {
        "colab": {
          "base_uri": "https://localhost:8080/"
        },
        "id": "HrHty_MAscdz",
        "outputId": "1748e2f9-4793-4156-ee70-0d41bbc767d9"
      },
      "outputs": [
        {
          "output_type": "stream",
          "name": "stdout",
          "text": [
            "Warning: Your Kaggle API key is readable by other users on this system! To fix this, you can run 'chmod 600 /content/kaggle.json'\n",
            "Downloading dogs-vs-cats-redux-kernels-edition.zip to /content\n",
            " 99% 809M/814M [00:09<00:00, 75.7MB/s]\n",
            "100% 814M/814M [00:09<00:00, 87.1MB/s]\n",
            "unzip:  cannot find or open train.zip, train.zip.zip or train.zip.ZIP.\n"
          ]
        }
      ],
      "source": [
        "import os\n",
        "os.environ['KAGGLE_CONFIG_DIR'] = '/content/'\n",
        "!kaggle competitions download -c dogs-vs-cats-redux-kernels-edition"
      ]
    },
    {
      "cell_type": "code",
      "source": [
        "!unzip -q dogs-vs-cats-redux-kernels-edition.zip -d ."
      ],
      "metadata": {
        "id": "SSDDsl7itPPD"
      },
      "execution_count": 4,
      "outputs": []
    },
    {
      "cell_type": "code",
      "source": [
        "!unzip -q train.zip -d ."
      ],
      "metadata": {
        "id": "LGmcXEtNtVsr"
      },
      "execution_count": 5,
      "outputs": []
    },
    {
      "cell_type": "code",
      "source": [
        "import os\n",
        "import tensorflow as tf\n",
        "import shutil\n",
        "\n",
        "os.mkdir('/content/dataset')\n",
        "os.mkdir('/content/dataset/cat')\n",
        "os.mkdir('/content/dataset/dog')\n",
        "\n",
        "for i in os.listdir('/content/train/'):\n",
        "  if 'cat' in i:\n",
        "    shutil.copyfile( '/content/train/' + i , '/content/dataset/cat/' + i )\n",
        "  if 'dog' in i:\n",
        "    shutil.copyfile( '/content/train/' + i , '/content/dataset/dog/' + i )\n",
        "\n",
        "train_ds = tf.keras.preprocessing.image_dataset_from_directory(\n",
        "  '/content/dataset/',\n",
        "  image_size=(150,150),\n",
        "  batch_size=64,\n",
        "  subset='training',\n",
        "  validation_split=0.2,\n",
        "  seed=1234\n",
        ")\n",
        "\n",
        "val_ds = tf.keras.preprocessing.image_dataset_from_directory(\n",
        "  '/content/dataset/',\n",
        "  image_size=(150,150),\n",
        "  batch_size=64,\n",
        "  subset='validation',\n",
        "  validation_split=0.2,\n",
        "  seed=1234\n",
        ")\n",
        "\n",
        "print(train_ds)\n",
        "\n",
        "def 전처리함수(i, 정답):\n",
        "  i = tf.cast( i/255.0, tf.float32 )\n",
        "  return i, 정답\n",
        "\n",
        "train_ds = train_ds.map(전처리함수)\n",
        "val_ds = val_ds.map(전처리함수)"
      ],
      "metadata": {
        "colab": {
          "base_uri": "https://localhost:8080/"
        },
        "id": "pMfB5Zp9s6SF",
        "outputId": "81b71243-7769-4828-8148-c413cbe2d93c"
      },
      "execution_count": 7,
      "outputs": [
        {
          "output_type": "stream",
          "name": "stdout",
          "text": [
            "Found 25000 files belonging to 2 classes.\n",
            "Using 20000 files for training.\n",
            "Found 25000 files belonging to 2 classes.\n",
            "Using 5000 files for validation.\n",
            "<_PrefetchDataset element_spec=(TensorSpec(shape=(None, 150, 150, 3), dtype=tf.float32, name=None), TensorSpec(shape=(None,), dtype=tf.int32, name=None))>\n"
          ]
        }
      ]
    },
    {
      "cell_type": "code",
      "source": [
        "import requests\n",
        "# 전이학습을 위해선 모델 + w 가 필요하니\n",
        "url = 'https://storage.googleapis.com/mledu-datasets/inception_v3_weights_tf_dim_ordering_tf_kernels_notop.h5' # 구글의 w값들을 가져오자\n",
        "r = requests.get(url, allow_redirects=True)\n",
        "\n",
        "open('inception_v3.h5', 'wb').write(r.content)"
      ],
      "metadata": {
        "colab": {
          "base_uri": "https://localhost:8080/"
        },
        "id": "sUx39BhIuEKw",
        "outputId": "60d0049b-ec38-415e-e1db-cbf3a8badc0e"
      },
      "execution_count": 8,
      "outputs": [
        {
          "output_type": "execute_result",
          "data": {
            "text/plain": [
              "87910968"
            ]
          },
          "metadata": {},
          "execution_count": 8
        }
      ]
    },
    {
      "cell_type": "code",
      "source": [
        "from tensorflow.keras.applications.inception_v3 import InceptionV3 # 구글 인셉션 모델 가져오자\n",
        "\n",
        "inception_model = InceptionV3(input_shape=(150,150,3), include_top=False, weights=None) # 원래는 (299,299,3) 이었는데 input_shape 를 수정.//include_top=마지막 출력층 가져올건지// weights=w 가져올건지\n",
        "inception_model.load_weights('inception_v3.h5')\n",
        "\n",
        "# inception_model.summary()\n",
        "\n",
        "# 많은 레이어가 있지만\n",
        "# 개, 고양이 분류만 할 수 있으면 되니 마지막에 내 레이어를 하나 추가하자.\n",
        "# 단, 다른 레이어의 w를 건들면 안된다.\n",
        "for i in inception_model.layers:\n",
        "  i.trainable=False\n",
        "\n",
        "# 레이어를 아주 살짝 건들여서 더 좋게 만들 수 있다. fine tuning\n",
        "# unfreeze = Flase\n",
        "# for i in inception_model.layers:\n",
        "#   if i.name == 'mixed6': # 이렇게 하나씩 true로 바꿀 수 있고\n",
        "#     i.trainable=True\n",
        "#   # mixed6 부터 전부 바꾸고 싶으면\n",
        "#   if i.name == 'mixed6':\n",
        "#     unfreeze = True\n",
        "#   if unfreeze == True:\n",
        "#     i.trainable=True\n",
        "\n",
        "마지막레이어 = inception_model.get_layer('mixed7')\n",
        "print(마지막레이어)"
      ],
      "metadata": {
        "colab": {
          "base_uri": "https://localhost:8080/"
        },
        "id": "ivAYCy5UumWC",
        "outputId": "74f207ab-c6b9-4a2a-f25b-f05b079a4023"
      },
      "execution_count": 12,
      "outputs": [
        {
          "output_type": "stream",
          "name": "stdout",
          "text": [
            "<keras.src.layers.merging.concatenate.Concatenate object at 0x7859ebf71fc0>\n"
          ]
        }
      ]
    },
    {
      "cell_type": "code",
      "source": [
        "import tensorflow as tf\n",
        "\n",
        "layer1 = tf.keras.layers.Flatten()(마지막레이어.output) # 레이어 연결\n",
        "layer2 = tf.keras.layers.Dense(1024, activation='relu')(layer1)\n",
        "drop1=tf.keras.layers.Dropout(0.2)(layer2)\n",
        "layer3 = tf.keras.layers.Dense(1, activation='sigmoid')(drop1)\n",
        "\n",
        "model=tf.keras.Model(inception_model.input , layer3)\n",
        "model.compile(loss='binary_crossentropy',optimizer='adam', metrics=['acc'])\n",
        "# 그리고 파인튜닝하고 싶으면 아래처럼 하고 러닝레이트를 아주 작게 설정한다.\n",
        "# model.compile(loss='binary_crossentropy',optimizer='tf.keras.optimizer.Adam(lr=0.000001)', metrics=['acc'])\n",
        "model.fit(train_ds, validation_data=val_ds, epochs=2)"
      ],
      "metadata": {
        "colab": {
          "base_uri": "https://localhost:8080/"
        },
        "id": "lbjRfWC-yfjp",
        "outputId": "b66bd9a0-5045-45ed-ab2d-d58edc345bad"
      },
      "execution_count": 13,
      "outputs": [
        {
          "output_type": "stream",
          "name": "stdout",
          "text": [
            "Epoch 1/2\n",
            "313/313 [==============================] - 1260s 4s/step - loss: 0.1596 - acc: 0.9531 - val_loss: 0.0790 - val_acc: 0.9670\n",
            "Epoch 2/2\n",
            "313/313 [==============================] - 1217s 4s/step - loss: 0.0384 - acc: 0.9860 - val_loss: 0.0910 - val_acc: 0.9706\n"
          ]
        },
        {
          "output_type": "execute_result",
          "data": {
            "text/plain": [
              "<keras.src.callbacks.History at 0x7859ebd031f0>"
            ]
          },
          "metadata": {},
          "execution_count": 13
        }
      ]
    }
  ]
}