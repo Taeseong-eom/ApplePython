{
  "nbformat": 4,
  "nbformat_minor": 0,
  "metadata": {
    "colab": {
      "provenance": [],
      "mount_file_id": "1n-JdayZUcfW2CjayjnKA5DSdWwJKXQFa",
      "authorship_tag": "ABX9TyMS9yEpeN0+cmSEVt0Y44/N",
      "include_colab_link": true
    },
    "kernelspec": {
      "name": "python3",
      "display_name": "Python 3"
    },
    "language_info": {
      "name": "python"
    }
  },
  "cells": [
    {
      "cell_type": "markdown",
      "metadata": {
        "id": "view-in-github",
        "colab_type": "text"
      },
      "source": [
        "<a href=\"https://colab.research.google.com/github/Taeseong-eom/ApplePython/blob/main/CleanBot.ipynb\" target=\"_parent\"><img src=\"https://colab.research.google.com/assets/colab-badge.svg\" alt=\"Open In Colab\"/></a>"
      ]
    },
    {
      "cell_type": "code",
      "execution_count": 1,
      "metadata": {
        "id": "HVSIuEOPfVh_",
        "colab": {
          "base_uri": "https://localhost:8080/"
        },
        "outputId": "4dfe69c2-6ce8-4304-b1d1-c761db2fd6c5"
      },
      "outputs": [
        {
          "output_type": "execute_result",
          "data": {
            "text/plain": [
              "('shopping.txt', <http.client.HTTPMessage at 0x7a385def5f00>)"
            ]
          },
          "metadata": {},
          "execution_count": 1
        }
      ],
      "source": [
        "# 네이버 댓글을 악플인지 아닌지 판별하는 봇을 만들려했지만 악플인지 아닌지 구분하는 것에서 문제 발생.\n",
        "# 그래서 네이버 쇼핑물 후기 데이터를 학습시키겠음.\n",
        "# 평점이 1, 2 점인것은 악플로 판단하여 학습시키자.\n",
        "\n",
        "import urllib.request\n",
        "urllib.request.urlretrieve('https://raw.githubusercontent.com/bab2min/corpus/master/sentiment/naver_shopping.txt', 'shopping.txt')"
      ]
    },
    {
      "cell_type": "code",
      "source": [
        "import pandas as pd\n",
        "import numpy as np\n",
        "\n",
        "raw = pd.read_table('shopping.txt', names=['rating', 'review'])# txt파일을 읽고 이름이 없어서 names으로 지정함.\n",
        "\n",
        "# 1을 선플, 0을 악플로 정의하겠음.\n",
        "raw['label'] = np.where(raw['rating'] > 3, 1, 0) # 3보다 크면 1로 지정하고 아니면 0으로 라벨링.\n",
        "print(raw)"
      ],
      "metadata": {
        "colab": {
          "base_uri": "https://localhost:8080/"
        },
        "id": "xv_OUIMeqyWT",
        "outputId": "236fa0d1-1a5d-4620-f552-29304c3ed07d"
      },
      "execution_count": 13,
      "outputs": [
        {
          "output_type": "stream",
          "name": "stdout",
          "text": [
            "        rating                                             review  label\n",
            "0            5                                            배공빠르고 굿      1\n",
            "1            2                      택배가 엉망이네용 저희집 밑에층에 말도없이 놔두고가고      0\n",
            "2            5  아주좋아요 바지 정말 좋아서2개 더 구매했어요 이가격에 대박입니다. 바느질이 조금 ...      1\n",
            "3            2  선물용으로 빨리 받아서 전달했어야 하는 상품이었는데 머그컵만 와서 당황했습니다. 전...      0\n",
            "4            5                  민트색상 예뻐요. 옆 손잡이는 거는 용도로도 사용되네요 ㅎㅎ      1\n",
            "...        ...                                                ...    ...\n",
            "199995       2                                    장마라그런가!!! 달지않아요      0\n",
            "199996       5  다이슨 케이스 구매했어요 다이슨 슈퍼소닉 드라이기 케이스 구매했어요가격 괜찮고 배송...      1\n",
            "199997       5                    로드샾에서 사는것보다 세배 저렴하네요 ㅜㅜ 자주이용할께요      1\n",
            "199998       5                                      넘이쁘고 쎄련되보이네요~      1\n",
            "199999       5   아직 사용해보지도않았고 다른 제품을 써본적이없어서 잘 모르겠지만 ㅎㅎ 배송은 빨랐습니다      1\n",
            "\n",
            "[200000 rows x 3 columns]\n"
          ]
        }
      ]
    },
    {
      "cell_type": "code",
      "source": [
        "# 데이터에 이상한 값들이 많아서 지움.\n",
        "raw['review'] = raw['review'].str.replace('[^ㄱ-ㅎㅏ-ㅣ가-힣0-9 ]', '') # 특수문자들을 없앰.\n",
        "raw.drop_duplicates(subset=['review'], inplace=True) # 중복 데이터 제거\n",
        "print(raw)\n",
        "utext = raw['review'].tolist()\n",
        "utext = ''.join(utext)\n",
        "utext = list(set(utext)) # 유니크한 문자들 뽑음\n",
        "utext.sort()\n",
        "print(utext[0:100])"
      ],
      "metadata": {
        "colab": {
          "base_uri": "https://localhost:8080/"
        },
        "id": "CSL9J21WswPf",
        "outputId": "dfebb127-b026-4867-dc24-8a9cbbde06b4"
      },
      "execution_count": 16,
      "outputs": [
        {
          "output_type": "stream",
          "name": "stderr",
          "text": [
            "<ipython-input-16-027c1ce7dc3d>:2: FutureWarning: The default value of regex will change from True to False in a future version.\n",
            "  raw['review'] = raw['review'].str.replace('[^ㄱ-ㅎㅏ-ㅣ가-힣0-9 ]', '') # 특수문자들을 없앰.\n"
          ]
        },
        {
          "output_type": "stream",
          "name": "stdout",
          "text": [
            "        rating                                             review  label\n",
            "0            5                                            배공빠르고 굿      1\n",
            "1            2                      택배가 엉망이네용 저희집 밑에층에 말도없이 놔두고가고      0\n",
            "2            5  아주좋아요 바지 정말 좋아서2개 더 구매했어요 이가격에 대박입니다 바느질이 조금 엉...      1\n",
            "3            2  선물용으로 빨리 받아서 전달했어야 하는 상품이었는데 머그컵만 와서 당황했습니다 전화...      0\n",
            "4            5                   민트색상 예뻐요 옆 손잡이는 거는 용도로도 사용되네요 ㅎㅎ      1\n",
            "...        ...                                                ...    ...\n",
            "199995       2                                       장마라그런가 달지않아요      0\n",
            "199996       5  다이슨 케이스 구매했어요 다이슨 슈퍼소닉 드라이기 케이스 구매했어요가격 괜찮고 배송...      1\n",
            "199997       5                    로드샾에서 사는것보다 세배 저렴하네요 ㅜㅜ 자주이용할께요      1\n",
            "199998       5                                       넘이쁘고 쎄련되보이네요      1\n",
            "199999       5   아직 사용해보지도않았고 다른 제품을 써본적이없어서 잘 모르겠지만 ㅎㅎ 배송은 빨랐습니다      1\n",
            "\n",
            "[199425 rows x 3 columns]\n",
            "[' ', '0', '1', '2', '3', '4', '5', '6', '7', '8', '9', 'ㄱ', 'ㄲ', 'ㄳ', 'ㄴ', 'ㄵ', 'ㄶ', 'ㄷ', 'ㄸ', 'ㄹ', 'ㄺ', 'ㄻ', 'ㄼ', 'ㄽ', 'ㄾ', 'ㄿ', 'ㅀ', 'ㅁ', 'ㅂ', 'ㅃ', 'ㅄ', 'ㅅ', 'ㅆ', 'ㅇ', 'ㅈ', 'ㅉ', 'ㅊ', 'ㅋ', 'ㅌ', 'ㅍ', 'ㅎ', 'ㅏ', 'ㅐ', 'ㅑ', 'ㅒ', 'ㅓ', 'ㅔ', 'ㅕ', 'ㅖ', 'ㅗ', 'ㅘ', 'ㅙ', 'ㅚ', 'ㅛ', 'ㅜ', 'ㅝ', 'ㅞ', 'ㅟ', 'ㅠ', 'ㅡ', 'ㅢ', 'ㅣ', '가', '각', '간', '갆', '갇', '갈', '갉', '감', '갑', '값', '갓', '갔', '강', '갖', '갗', '갘', '같', '갚', '갛', '개', '객', '갠', '갤', '갬', '갭', '갮', '갯', '갰', '갱', '갲', '갵', '갷', '갸', '갹', '걀', '걈', '걋', '걍']\n"
          ]
        }
      ]
    }
  ]
}