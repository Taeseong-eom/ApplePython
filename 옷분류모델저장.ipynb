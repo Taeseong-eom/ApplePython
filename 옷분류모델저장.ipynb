{
  "nbformat": 4,
  "nbformat_minor": 0,
  "metadata": {
    "colab": {
      "provenance": [],
      "authorship_tag": "ABX9TyNzyHS8M4x8lvhPclPWDorP",
      "include_colab_link": true
    },
    "kernelspec": {
      "name": "python3",
      "display_name": "Python 3"
    },
    "language_info": {
      "name": "python"
    }
  },
  "cells": [
    {
      "cell_type": "markdown",
      "metadata": {
        "id": "view-in-github",
        "colab_type": "text"
      },
      "source": [
        "<a href=\"https://colab.research.google.com/github/Taeseong-eom/ApplePython/blob/main/%EC%98%B7%EB%B6%84%EB%A5%98%EB%AA%A8%EB%8D%B8%EC%A0%80%EC%9E%A5.ipynb\" target=\"_parent\"><img src=\"https://colab.research.google.com/assets/colab-badge.svg\" alt=\"Open In Colab\"/></a>"
      ]
    },
    {
      "cell_type": "code",
      "execution_count": 8,
      "metadata": {
        "colab": {
          "base_uri": "https://localhost:8080/"
        },
        "id": "eNO9PJ2fANIF",
        "outputId": "6f5130f4-fa10-4da9-f348-c36243599d22"
      },
      "outputs": [
        {
          "output_type": "stream",
          "name": "stdout",
          "text": [
            "Model: \"sequential_4\"\n",
            "_________________________________________________________________\n",
            " Layer (type)                Output Shape              Param #   \n",
            "=================================================================\n",
            " conv2d_4 (Conv2D)           (None, 28, 28, 32)        320       \n",
            "                                                                 \n",
            " max_pooling2d_4 (MaxPoolin  (None, 14, 14, 32)        0         \n",
            " g2D)                                                            \n",
            "                                                                 \n",
            " flatten_4 (Flatten)         (None, 6272)              0         \n",
            "                                                                 \n",
            " dense_8 (Dense)             (None, 64)                401472    \n",
            "                                                                 \n",
            " dense_9 (Dense)             (None, 10)                650       \n",
            "                                                                 \n",
            "=================================================================\n",
            "Total params: 402442 (1.54 MB)\n",
            "Trainable params: 402442 (1.54 MB)\n",
            "Non-trainable params: 0 (0.00 Byte)\n",
            "_________________________________________________________________\n",
            "Epoch 1/5\n",
            "1875/1875 [==============================] - 38s 20ms/step - loss: 0.4013 - accuracy: 0.8570 - val_loss: 0.3387 - val_accuracy: 0.8830\n",
            "Epoch 2/5\n",
            "1875/1875 [==============================] - 36s 19ms/step - loss: 0.2743 - accuracy: 0.9010 - val_loss: 0.3037 - val_accuracy: 0.8900\n",
            "Epoch 3/5\n",
            "1875/1875 [==============================] - 37s 20ms/step - loss: 0.2349 - accuracy: 0.9141 - val_loss: 0.2676 - val_accuracy: 0.9028\n",
            "Epoch 4/5\n",
            "1875/1875 [==============================] - 35s 19ms/step - loss: 0.2054 - accuracy: 0.9250 - val_loss: 0.2655 - val_accuracy: 0.9044\n",
            "Epoch 5/5\n",
            "1875/1875 [==============================] - 35s 19ms/step - loss: 0.1812 - accuracy: 0.9327 - val_loss: 0.2572 - val_accuracy: 0.9103\n"
          ]
        },
        {
          "output_type": "execute_result",
          "data": {
            "text/plain": [
              "<keras.src.callbacks.History at 0x79141c8831f0>"
            ]
          },
          "metadata": {},
          "execution_count": 8
        }
      ],
      "source": [
        "import tensorflow as tf\n",
        "import matplotlib.pyplot as plt\n",
        "import numpy as np\n",
        "import multiprocessing\n",
        "\n",
        "(trainX,trainY),(testX, testY) = tf.keras.datasets.fashion_mnist.load_data() # (학습데이터, 정답), (테스트 데이터, 테스트 정답)\n",
        "\n",
        "\n",
        "#이미지 데이터 전처리 0 ~ 255를 0 ~ 1로 압축해서 넣을 수 있음 -> 선택사항임\n",
        "trainX = trainX / 255.0\n",
        "testX = testX / 255.0\n",
        "\n",
        "\n",
        "trainX = trainX.reshape((trainX.shape[0],28,28,1))\n",
        "testX = testX.reshape((testX.shape[0],28,28,1))\n",
        "\n",
        "class_names = ['T-shirt/top','Trouser','Pullover','Dress''Coat','Sandal','Shirt','Sneaker','Bag','Ankle boot']\n",
        "\n",
        "model = tf.keras.Sequential([ #activation='relu' 양수만 뱉어 내는데 이미지는 음수가 나올 수 없으니 사용\n",
        "  #convolution 적용\n",
        "  tf.keras.layers.Conv2D(32, (3,3),padding=\"same\",activation='relu',input_shape=(28,28,1)), # 32개의 이미지 복사본(특징들) 생성해줘.//(3,3)-> 커널 사이즈(알아서 하면됨)// padding=\"same\" -> 컨볼루션 하면 크기가 작아지는데 똑같이 유지해줌(테투리 1픽셀 추가)\n",
        "  # input_shape=(28,28,1) 기존 데이터는 [[...],[...]] 이렇게 되어있는데 Conv 하려면 [[.][.]] 로 바꿔줘야 해서 모양 지정. -> 컬러일땐 당연히 3\n",
        "\n",
        "  #pooling 을 통해 가운데로 모으자\n",
        "  tf.keras.layers.MaxPooling2D( (2,2)), # (2,2) 사이즈로 줄일거임\n",
        "\n",
        "  # tf.keras.layers.Dense(128,input_shape=(28,28),activation='relu'), #relu : 음수는 다 0으로 만들어줌 // convolution layer에서 자주씀\n",
        "  tf.keras.layers.Flatten(), # 순서를 바꿔줘야함.\n",
        "  tf.keras.layers.Dense(64,activation='relu'),\n",
        "  #\n",
        "  tf.keras.layers.Dense(10,activation='softmax') # 10개의 확률을 뱉게함\n",
        "])\n",
        "\n",
        "콜백함수 = tf.keras.callbacks.ModelCheckpoint(\n",
        "    filepath='체크포인트/mnist',\n",
        "    save_weight_only=True,\n",
        "    save_freq='epoch'\n",
        ")\n",
        "\n",
        "model.summary()\n",
        "model.compile(loss=\"sparse_categorical_crossentropy\",optimizer='adam',metrics=['accuracy']) #categorical_crossentoropy 여러 카테고리를 확률로 예측하고 싶을때 사용\n",
        "model.fit(trainX,trainY,validation_data=(testX,testY),epochs=5, callbacks=[콜백함수])\n"
      ]
    },
    {
      "cell_type": "code",
      "source": [
        "# 모델을 저장하는 방법에는\n",
        "# 1. 전체 저장 / 로드\n",
        "# model.save('새폴더/model1')\n",
        "\n",
        "# 2. check point (간편하게 w 값만 저장.)\n",
        "\n",
        "model2 = tf.keras.Sequential([ #activation='relu' 양수만 뱉어 내는데 이미지는 음수가 나올 수 없으니 사용\n",
        "  #convolution 적용\n",
        "  tf.keras.layers.Conv2D(32, (3,3),padding=\"same\",activation='relu',input_shape=(28,28,1)), # 32개의 이미지 복사본(특징들) 생성해줘.//(3,3)-> 커널 사이즈(알아서 하면됨)// padding=\"same\" -> 컨볼루션 하면 크기가 작아지는데 똑같이 유지해줌(테투리 1픽셀 추가)\n",
        "  # input_shape=(28,28,1) 기존 데이터는 [[...],[...]] 이렇게 되어있는데 Conv 하려면 [[.][.]] 로 바꿔줘야 해서 모양 지정. -> 컬러일땐 당연히 3\n",
        "\n",
        "  #pooling 을 통해 가운데로 모으자\n",
        "  tf.keras.layers.MaxPooling2D( (2,2)), # (2,2) 사이즈로 줄일거임\n",
        "\n",
        "  # tf.keras.layers.Dense(128,input_shape=(28,28),activation='relu'), #relu : 음수는 다 0으로 만들어줌 // convolution layer에서 자주씀\n",
        "  tf.keras.layers.Flatten(), # 순서를 바꿔줘야함.\n",
        "  tf.keras.layers.Dense(64,activation='relu'),\n",
        "  #\n",
        "  tf.keras.layers.Dense(10,activation='softmax') # 10개의 확률을 뱉게함\n",
        "])\n",
        "\n",
        "model2.summary()\n",
        "model2.compile(loss='sparse_categorical_crossentropy', optimizer='adam', metrics=['acc'])\n",
        "model2.load_weights('체크포인트/mnist')\n",
        "model2.evaluate(testX,testY)"
      ],
      "metadata": {
        "colab": {
          "base_uri": "https://localhost:8080/"
        },
        "id": "oGH_FNu0A0k0",
        "outputId": "b3f3dd33-9b0d-44c2-ea1e-72036c9b6153"
      },
      "execution_count": 12,
      "outputs": [
        {
          "output_type": "stream",
          "name": "stdout",
          "text": [
            "Model: \"sequential_8\"\n",
            "_________________________________________________________________\n",
            " Layer (type)                Output Shape              Param #   \n",
            "=================================================================\n",
            " conv2d_5 (Conv2D)           (None, 28, 28, 32)        320       \n",
            "                                                                 \n",
            " max_pooling2d_5 (MaxPoolin  (None, 14, 14, 32)        0         \n",
            " g2D)                                                            \n",
            "                                                                 \n",
            " flatten_8 (Flatten)         (None, 6272)              0         \n",
            "                                                                 \n",
            " dense_16 (Dense)            (None, 64)                401472    \n",
            "                                                                 \n",
            " dense_17 (Dense)            (None, 10)                650       \n",
            "                                                                 \n",
            "=================================================================\n",
            "Total params: 402442 (1.54 MB)\n",
            "Trainable params: 402442 (1.54 MB)\n",
            "Non-trainable params: 0 (0.00 Byte)\n",
            "_________________________________________________________________\n",
            "313/313 [==============================] - 2s 6ms/step - loss: 0.2572 - acc: 0.9103\n"
          ]
        },
        {
          "output_type": "execute_result",
          "data": {
            "text/plain": [
              "[0.2571919858455658, 0.9103000164031982]"
            ]
          },
          "metadata": {},
          "execution_count": 12
        }
      ]
    },
    {
      "cell_type": "code",
      "source": [
        "# 불러올모델 = tf.keras.models.load_model('새폴더/model1')\n",
        "# 불러올모델.summary()\n",
        "\n",
        "# 불러올모델.evaluate(testX,testY)"
      ],
      "metadata": {
        "colab": {
          "base_uri": "https://localhost:8080/"
        },
        "id": "FbMtTGytCEls",
        "outputId": "51f1b9d6-4030-4cea-98ec-614f4cae8551"
      },
      "execution_count": 4,
      "outputs": [
        {
          "output_type": "stream",
          "name": "stdout",
          "text": [
            "Model: \"sequential\"\n",
            "_________________________________________________________________\n",
            " Layer (type)                Output Shape              Param #   \n",
            "=================================================================\n",
            " conv2d (Conv2D)             (None, 28, 28, 32)        320       \n",
            "                                                                 \n",
            " max_pooling2d (MaxPooling2  (None, 14, 14, 32)        0         \n",
            " D)                                                              \n",
            "                                                                 \n",
            " flatten (Flatten)           (None, 6272)              0         \n",
            "                                                                 \n",
            " dense (Dense)               (None, 64)                401472    \n",
            "                                                                 \n",
            " dense_1 (Dense)             (None, 10)                650       \n",
            "                                                                 \n",
            "=================================================================\n",
            "Total params: 402442 (1.54 MB)\n",
            "Trainable params: 402442 (1.54 MB)\n",
            "Non-trainable params: 0 (0.00 Byte)\n",
            "_________________________________________________________________\n",
            "313/313 [==============================] - 2s 6ms/step - loss: 0.2810 - accuracy: 0.8995\n"
          ]
        },
        {
          "output_type": "execute_result",
          "data": {
            "text/plain": [
              "[0.2810135781764984, 0.8995000123977661]"
            ]
          },
          "metadata": {},
          "execution_count": 4
        }
      ]
    }
  ]
}